{
  "nbformat": 4,
  "nbformat_minor": 0,
  "metadata": {
    "colab": {
      "name": "NLP_Practical_5_NER_Chunking_.ipynb",
      "provenance": [],
      "collapsed_sections": []
    },
    "kernelspec": {
      "name": "python3",
      "display_name": "Python 3"
    },
    "language_info": {
      "name": "python"
    }
  },
  "cells": [
    {
      "cell_type": "markdown",
      "metadata": {
        "id": "EwevJzgBzoHu"
      },
      "source": [
        "**Practical 5 : Write a program to perform Named Entity Recognition (NER) & Chunking on English Text.**"
      ]
    },
    {
      "cell_type": "markdown",
      "metadata": {
        "id": "9nnUsKwOznAs"
      },
      "source": [
        "# **Named Entity Recognition**"
      ]
    },
    {
      "cell_type": "code",
      "metadata": {
        "colab": {
          "base_uri": "https://localhost:8080/"
        },
        "id": "fut4_nuSzCSf",
        "outputId": "2e8f727d-88d3-4c48-b2ef-f0d81a0df41e"
      },
      "source": [
        "import nltk\n",
        "nltk.download('punkt')\n",
        "nltk.download('averaged_perceptron_tagger')\n",
        "nltk.download('maxent_ne_chunker')\n",
        "nltk.download('words')"
      ],
      "execution_count": null,
      "outputs": [
        {
          "output_type": "stream",
          "name": "stdout",
          "text": [
            "[nltk_data] Downloading package punkt to /root/nltk_data...\n",
            "[nltk_data]   Package punkt is already up-to-date!\n",
            "[nltk_data] Downloading package averaged_perceptron_tagger to\n",
            "[nltk_data]     /root/nltk_data...\n",
            "[nltk_data]   Package averaged_perceptron_tagger is already up-to-\n",
            "[nltk_data]       date!\n",
            "[nltk_data] Downloading package maxent_ne_chunker to\n",
            "[nltk_data]     /root/nltk_data...\n",
            "[nltk_data]   Package maxent_ne_chunker is already up-to-date!\n",
            "[nltk_data] Downloading package words to /root/nltk_data...\n",
            "[nltk_data]   Package words is already up-to-date!\n"
          ]
        },
        {
          "output_type": "execute_result",
          "data": {
            "text/plain": [
              "True"
            ]
          },
          "metadata": {},
          "execution_count": 13
        }
      ]
    },
    {
      "cell_type": "code",
      "metadata": {
        "id": "g2DCi1jF0a1-"
      },
      "source": [
        "# Importing the libraries\n",
        "from nltk.tokenize import word_tokenize\n",
        "from nltk.tag import pos_tag\n",
        "from nltk.chunk import ne_chunk"
      ],
      "execution_count": null,
      "outputs": []
    },
    {
      "cell_type": "code",
      "metadata": {
        "id": "A-7cL3650oGm"
      },
      "source": [
        "dataset = \"\"\"Abraham Lincoln was an American statesman and lawyer \n",
        "              who served as the 16th President of the United States\"\"\""
      ],
      "execution_count": null,
      "outputs": []
    },
    {
      "cell_type": "code",
      "metadata": {
        "colab": {
          "base_uri": "https://localhost:8080/"
        },
        "id": "E4m-qDHO0qEc",
        "outputId": "cb19e84d-7203-430c-ccbb-a564fb6a8bc6"
      },
      "source": [
        "# Tokenize and tagging the data\n",
        "dataset_tag = pos_tag(word_tokenize(dataset))\n",
        "dataset_tag"
      ],
      "execution_count": null,
      "outputs": [
        {
          "output_type": "execute_result",
          "data": {
            "text/plain": [
              "[('Abraham', 'NNP'),\n",
              " ('Lincoln', 'NNP'),\n",
              " ('was', 'VBD'),\n",
              " ('an', 'DT'),\n",
              " ('American', 'JJ'),\n",
              " ('statesman', 'NN'),\n",
              " ('and', 'CC'),\n",
              " ('lawyer', 'NN'),\n",
              " ('who', 'WP'),\n",
              " ('served', 'VBD'),\n",
              " ('as', 'IN'),\n",
              " ('the', 'DT'),\n",
              " ('16th', 'CD'),\n",
              " ('President', 'NNP'),\n",
              " ('of', 'IN'),\n",
              " ('the', 'DT'),\n",
              " ('United', 'NNP'),\n",
              " ('States', 'NNPS')]"
            ]
          },
          "metadata": {},
          "execution_count": 16
        }
      ]
    },
    {
      "cell_type": "code",
      "metadata": {
        "colab": {
          "base_uri": "https://localhost:8080/"
        },
        "id": "BaH9evdh0qHo",
        "outputId": "30eb943d-d3d2-44a7-a0c2-8e849aa33afd"
      },
      "source": [
        "# Apply Named Entity Recognition with ne_chunk\n",
        "data_ner = ne_chunk(dataset_tag)\n",
        "print(data_ner)"
      ],
      "execution_count": null,
      "outputs": [
        {
          "output_type": "stream",
          "name": "stdout",
          "text": [
            "(S\n",
            "  (PERSON Abraham/NNP)\n",
            "  (PERSON Lincoln/NNP)\n",
            "  was/VBD\n",
            "  an/DT\n",
            "  (GPE American/JJ)\n",
            "  statesman/NN\n",
            "  and/CC\n",
            "  lawyer/NN\n",
            "  who/WP\n",
            "  served/VBD\n",
            "  as/IN\n",
            "  the/DT\n",
            "  16th/CD\n",
            "  President/NNP\n",
            "  of/IN\n",
            "  the/DT\n",
            "  (GPE United/NNP States/NNPS))\n"
          ]
        }
      ]
    },
    {
      "cell_type": "markdown",
      "metadata": {
        "id": "n7BtGWAr1YME"
      },
      "source": [
        "# **Chunking**"
      ]
    },
    {
      "cell_type": "code",
      "metadata": {
        "id": "wazejxgI0qKb"
      },
      "source": [
        "# Importing the libraries\n",
        "import nltk\n",
        "from nltk.tokenize import word_tokenize\n",
        "from nltk.tag import pos_tag\n",
        "from nltk.chunk import RegexpParser"
      ],
      "execution_count": null,
      "outputs": []
    },
    {
      "cell_type": "code",
      "metadata": {
        "id": "QRYBrYaO1nWQ"
      },
      "source": [
        "dataset = \"\"\"Taj Mahal is one of the world’s most celebrated structures \n",
        "          in the world.\n",
        "          It is a stunning symbol of Indian rich history\"\"\""
      ],
      "execution_count": null,
      "outputs": []
    },
    {
      "cell_type": "code",
      "metadata": {
        "colab": {
          "base_uri": "https://localhost:8080/"
        },
        "id": "kOYW7vDN1o7e",
        "outputId": "f59adb01-1183-494e-9068-50a31eabff36"
      },
      "source": [
        "# Tokenize the data\n",
        "new_data = word_tokenize(dataset)\n",
        "print(new_data)"
      ],
      "execution_count": null,
      "outputs": [
        {
          "output_type": "stream",
          "name": "stdout",
          "text": [
            "['Taj', 'Mahal', 'is', 'one', 'of', 'the', 'world', '’', 's', 'most', 'celebrated', 'structures', 'in', 'the', 'world', '.', 'It', 'is', 'a', 'stunning', 'symbol', 'of', 'Indian', 'rich', 'history']\n"
          ]
        }
      ]
    },
    {
      "cell_type": "code",
      "metadata": {
        "colab": {
          "base_uri": "https://localhost:8080/"
        },
        "id": "Ld2mwBmF1o-v",
        "outputId": "915807b1-189b-43b0-be22-60c71bdf1c5a"
      },
      "source": [
        "# Apply the POS Tagging\n",
        "postagging = pos_tag(new_data)\n",
        "print(postagging)"
      ],
      "execution_count": null,
      "outputs": [
        {
          "output_type": "stream",
          "name": "stdout",
          "text": [
            "[('Taj', 'NNP'), ('Mahal', 'NNP'), ('is', 'VBZ'), ('one', 'CD'), ('of', 'IN'), ('the', 'DT'), ('world', 'NN'), ('’', 'NNP'), ('s', 'VBZ'), ('most', 'JJS'), ('celebrated', 'JJ'), ('structures', 'NNS'), ('in', 'IN'), ('the', 'DT'), ('world', 'NN'), ('.', '.'), ('It', 'PRP'), ('is', 'VBZ'), ('a', 'DT'), ('stunning', 'JJ'), ('symbol', 'NN'), ('of', 'IN'), ('Indian', 'JJ'), ('rich', 'JJ'), ('history', 'NN')]\n"
          ]
        }
      ]
    },
    {
      "cell_type": "code",
      "metadata": {
        "id": "pXma6JU11pCc"
      },
      "source": [
        "# Define the sequence of Chunk\n",
        "sequence_chunk = \"\"\" \n",
        "           chunk:\n",
        "               {<NNPS>+}\n",
        "               {<NNP>+}\n",
        "               {<NN>+} \"\"\""
      ],
      "execution_count": null,
      "outputs": []
    },
    {
      "cell_type": "code",
      "metadata": {
        "id": "gJnBWIDM1-rD"
      },
      "source": [
        "chunk = RegexpParser(sequence_chunk)"
      ],
      "execution_count": null,
      "outputs": []
    },
    {
      "cell_type": "code",
      "metadata": {
        "colab": {
          "base_uri": "https://localhost:8080/"
        },
        "id": "B8NX7OWQ1-um",
        "outputId": "ff161470-d301-4ff1-a280-fed19092374f"
      },
      "source": [
        "chunk_result = chunk.parse(postagging)\n",
        "print(chunk_result)"
      ],
      "execution_count": null,
      "outputs": [
        {
          "output_type": "stream",
          "name": "stdout",
          "text": [
            "(S\n",
            "  (chunk Taj/NNP Mahal/NNP)\n",
            "  is/VBZ\n",
            "  one/CD\n",
            "  of/IN\n",
            "  the/DT\n",
            "  (chunk world/NN)\n",
            "  (chunk ’/NNP)\n",
            "  s/VBZ\n",
            "  most/JJS\n",
            "  celebrated/JJ\n",
            "  structures/NNS\n",
            "  in/IN\n",
            "  the/DT\n",
            "  (chunk world/NN)\n",
            "  ./.\n",
            "  It/PRP\n",
            "  is/VBZ\n",
            "  a/DT\n",
            "  stunning/JJ\n",
            "  (chunk symbol/NN)\n",
            "  of/IN\n",
            "  Indian/JJ\n",
            "  rich/JJ\n",
            "  (chunk history/NN))\n"
          ]
        }
      ]
    }
  ]
}